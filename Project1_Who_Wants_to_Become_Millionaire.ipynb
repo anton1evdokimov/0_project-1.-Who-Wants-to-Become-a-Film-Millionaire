{
 "cells": [
  {
   "cell_type": "code",
   "execution_count": 301,
   "metadata": {
    "_cell_guid": "b1076dfc-b9ad-4769-8c92-a6c4dae69d19",
    "_uuid": "8f2839f25d086af736a60e9eeb907d3b93b6e0e5",
    "colab": {},
    "colab_type": "code",
    "id": "U2D2gTdJVp90"
   },
   "outputs": [],
   "source": [
    "import numpy as np\n",
    "import pandas as pd\n",
    "import seaborn as sns\n",
    "import matplotlib.pyplot as plt\n",
    "from collections import Counter\n",
    "from datetime import datetime"
   ]
  },
  {
   "cell_type": "code",
   "execution_count": 310,
   "metadata": {
    "_cell_guid": "79c7e3d0-c299-4dcb-8224-4455121ee9b0",
    "_uuid": "d629ff2d2480ee46fbb7e2d37f6b5fab8052498a",
    "colab": {},
    "colab_type": "code",
    "id": "oyGfxL3eVp9-"
   },
   "outputs": [
    {
     "data": {
      "text/html": [
       "<div>\n",
       "<style scoped>\n",
       "    .dataframe tbody tr th:only-of-type {\n",
       "        vertical-align: middle;\n",
       "    }\n",
       "\n",
       "    .dataframe tbody tr th {\n",
       "        vertical-align: top;\n",
       "    }\n",
       "\n",
       "    .dataframe thead th {\n",
       "        text-align: right;\n",
       "    }\n",
       "</style>\n",
       "<table border=\"1\" class=\"dataframe\">\n",
       "  <thead>\n",
       "    <tr style=\"text-align: right;\">\n",
       "      <th></th>\n",
       "      <th>imdb_id</th>\n",
       "      <th>budget</th>\n",
       "      <th>revenue</th>\n",
       "      <th>original_title</th>\n",
       "      <th>cast</th>\n",
       "      <th>director</th>\n",
       "      <th>tagline</th>\n",
       "      <th>overview</th>\n",
       "      <th>runtime</th>\n",
       "      <th>genres</th>\n",
       "      <th>production_companies</th>\n",
       "      <th>release_date</th>\n",
       "      <th>vote_average</th>\n",
       "      <th>release_year</th>\n",
       "      <th>profit</th>\n",
       "    </tr>\n",
       "  </thead>\n",
       "  <tbody>\n",
       "    <tr>\n",
       "      <th>1083</th>\n",
       "      <td>tt0325980</td>\n",
       "      <td>140000000</td>\n",
       "      <td>655011224</td>\n",
       "      <td>Pirates of the Caribbean: The Curse of the Bla...</td>\n",
       "      <td>Johnny Depp|Geoffrey Rush|Orlando Bloom|Keira ...</td>\n",
       "      <td>Gore Verbinski</td>\n",
       "      <td>Prepare to be blown out of the water.</td>\n",
       "      <td>Jack Sparrow, a freewheeling 17th-century pira...</td>\n",
       "      <td>143</td>\n",
       "      <td>Adventure|Fantasy|Action</td>\n",
       "      <td>Walt Disney Pictures|Jerry Bruckheimer Films</td>\n",
       "      <td>7/9/2003</td>\n",
       "      <td>7.3</td>\n",
       "      <td>2003</td>\n",
       "      <td>515011224</td>\n",
       "    </tr>\n",
       "    <tr>\n",
       "      <th>22</th>\n",
       "      <td>tt2126355</td>\n",
       "      <td>110000000</td>\n",
       "      <td>470490832</td>\n",
       "      <td>San Andreas</td>\n",
       "      <td>Dwayne Johnson|Alexandra Daddario|Carla Gugino...</td>\n",
       "      <td>Brad Peyton</td>\n",
       "      <td>A rescue pilot survived an earthquake, this is...</td>\n",
       "      <td>In the aftermath of a massive earthquake in Ca...</td>\n",
       "      <td>114</td>\n",
       "      <td>Action|Drama|Thriller</td>\n",
       "      <td>New Line Cinema|Village Roadshow Pictures|Warn...</td>\n",
       "      <td>5/27/2015</td>\n",
       "      <td>6.1</td>\n",
       "      <td>2015</td>\n",
       "      <td>360490832</td>\n",
       "    </tr>\n",
       "    <tr>\n",
       "      <th>31</th>\n",
       "      <td>tt2848292</td>\n",
       "      <td>29000000</td>\n",
       "      <td>287506194</td>\n",
       "      <td>Pitch Perfect 2</td>\n",
       "      <td>Anna Kendrick|Rebel Wilson|Hailee Steinfeld|Br...</td>\n",
       "      <td>Elizabeth Banks</td>\n",
       "      <td>We're back pitches</td>\n",
       "      <td>The Bellas are back, and they are better than ...</td>\n",
       "      <td>115</td>\n",
       "      <td>Comedy|Music</td>\n",
       "      <td>Universal Pictures|Gold Circle Films|Brownston...</td>\n",
       "      <td>5/7/2015</td>\n",
       "      <td>6.8</td>\n",
       "      <td>2015</td>\n",
       "      <td>258506194</td>\n",
       "    </tr>\n",
       "    <tr>\n",
       "      <th>102</th>\n",
       "      <td>tt3722070</td>\n",
       "      <td>6000000</td>\n",
       "      <td>41387687</td>\n",
       "      <td>The Lady in the Van</td>\n",
       "      <td>Maggie Smith|Alex Jennings|Frances de la Tour|...</td>\n",
       "      <td>Nicholas Hytner</td>\n",
       "      <td>A mostly true story</td>\n",
       "      <td>The true story of the relationship between Ala...</td>\n",
       "      <td>104</td>\n",
       "      <td>Comedy|Drama</td>\n",
       "      <td>BBC Films|TriStar Productions</td>\n",
       "      <td>11/13/2015</td>\n",
       "      <td>5.9</td>\n",
       "      <td>2015</td>\n",
       "      <td>35387687</td>\n",
       "    </tr>\n",
       "    <tr>\n",
       "      <th>1601</th>\n",
       "      <td>tt0346491</td>\n",
       "      <td>155000000</td>\n",
       "      <td>167298192</td>\n",
       "      <td>Alexander</td>\n",
       "      <td>Colin Farrell|Angelina Jolie|Val Kilmer|Jared ...</td>\n",
       "      <td>Oliver Stone</td>\n",
       "      <td>The greatest legend of all was real.</td>\n",
       "      <td>Alexander, the King of Macedonia, leads his le...</td>\n",
       "      <td>175</td>\n",
       "      <td>War|History|Action|Adventure|Drama</td>\n",
       "      <td>France 3 CinÃ©ma|Intermedia Films|PathÃ© Renn ...</td>\n",
       "      <td>11/21/2004</td>\n",
       "      <td>5.6</td>\n",
       "      <td>2004</td>\n",
       "      <td>12298192</td>\n",
       "    </tr>\n",
       "  </tbody>\n",
       "</table>\n",
       "</div>"
      ],
      "text/plain": [
       "        imdb_id     budget    revenue  \\\n",
       "1083  tt0325980  140000000  655011224   \n",
       "22    tt2126355  110000000  470490832   \n",
       "31    tt2848292   29000000  287506194   \n",
       "102   tt3722070    6000000   41387687   \n",
       "1601  tt0346491  155000000  167298192   \n",
       "\n",
       "                                         original_title  \\\n",
       "1083  Pirates of the Caribbean: The Curse of the Bla...   \n",
       "22                                          San Andreas   \n",
       "31                                      Pitch Perfect 2   \n",
       "102                                 The Lady in the Van   \n",
       "1601                                          Alexander   \n",
       "\n",
       "                                                   cast         director  \\\n",
       "1083  Johnny Depp|Geoffrey Rush|Orlando Bloom|Keira ...   Gore Verbinski   \n",
       "22    Dwayne Johnson|Alexandra Daddario|Carla Gugino...      Brad Peyton   \n",
       "31    Anna Kendrick|Rebel Wilson|Hailee Steinfeld|Br...  Elizabeth Banks   \n",
       "102   Maggie Smith|Alex Jennings|Frances de la Tour|...  Nicholas Hytner   \n",
       "1601  Colin Farrell|Angelina Jolie|Val Kilmer|Jared ...     Oliver Stone   \n",
       "\n",
       "                                                tagline  \\\n",
       "1083              Prepare to be blown out of the water.   \n",
       "22    A rescue pilot survived an earthquake, this is...   \n",
       "31                                   We're back pitches   \n",
       "102                                 A mostly true story   \n",
       "1601               The greatest legend of all was real.   \n",
       "\n",
       "                                               overview  runtime  \\\n",
       "1083  Jack Sparrow, a freewheeling 17th-century pira...      143   \n",
       "22    In the aftermath of a massive earthquake in Ca...      114   \n",
       "31    The Bellas are back, and they are better than ...      115   \n",
       "102   The true story of the relationship between Ala...      104   \n",
       "1601  Alexander, the King of Macedonia, leads his le...      175   \n",
       "\n",
       "                                  genres  \\\n",
       "1083            Adventure|Fantasy|Action   \n",
       "22                 Action|Drama|Thriller   \n",
       "31                          Comedy|Music   \n",
       "102                         Comedy|Drama   \n",
       "1601  War|History|Action|Adventure|Drama   \n",
       "\n",
       "                                   production_companies release_date  \\\n",
       "1083       Walt Disney Pictures|Jerry Bruckheimer Films     7/9/2003   \n",
       "22    New Line Cinema|Village Roadshow Pictures|Warn...    5/27/2015   \n",
       "31    Universal Pictures|Gold Circle Films|Brownston...     5/7/2015   \n",
       "102                       BBC Films|TriStar Productions   11/13/2015   \n",
       "1601  France 3 CinÃ©ma|Intermedia Films|PathÃ© Renn ...   11/21/2004   \n",
       "\n",
       "      vote_average  release_year     profit  \n",
       "1083           7.3          2003  515011224  \n",
       "22             6.1          2015  360490832  \n",
       "31             6.8          2015  258506194  \n",
       "102            5.9          2015   35387687  \n",
       "1601           5.6          2004   12298192  "
      ]
     },
     "execution_count": 310,
     "metadata": {},
     "output_type": "execute_result"
    }
   ],
   "source": [
    "data = pd.read_csv('movie_bd_v5.csv')\n",
    "data['profit']=data['revenue'] - data['budget']\n",
    "data.sample(5)"
   ]
  },
  {
   "cell_type": "code",
   "execution_count": 17,
   "metadata": {
    "colab": {},
    "colab_type": "code",
    "id": "CoYUnagMVp-C"
   },
   "outputs": [
    {
     "data": {
      "text/html": [
       "<div>\n",
       "<style scoped>\n",
       "    .dataframe tbody tr th:only-of-type {\n",
       "        vertical-align: middle;\n",
       "    }\n",
       "\n",
       "    .dataframe tbody tr th {\n",
       "        vertical-align: top;\n",
       "    }\n",
       "\n",
       "    .dataframe thead th {\n",
       "        text-align: right;\n",
       "    }\n",
       "</style>\n",
       "<table border=\"1\" class=\"dataframe\">\n",
       "  <thead>\n",
       "    <tr style=\"text-align: right;\">\n",
       "      <th></th>\n",
       "      <th>budget</th>\n",
       "      <th>revenue</th>\n",
       "      <th>runtime</th>\n",
       "      <th>vote_average</th>\n",
       "      <th>release_year</th>\n",
       "    </tr>\n",
       "  </thead>\n",
       "  <tbody>\n",
       "    <tr>\n",
       "      <th>count</th>\n",
       "      <td>1.889000e+03</td>\n",
       "      <td>1.889000e+03</td>\n",
       "      <td>1889.000000</td>\n",
       "      <td>1889.000000</td>\n",
       "      <td>1889.000000</td>\n",
       "    </tr>\n",
       "    <tr>\n",
       "      <th>mean</th>\n",
       "      <td>5.431083e+07</td>\n",
       "      <td>1.553653e+08</td>\n",
       "      <td>109.658549</td>\n",
       "      <td>6.140762</td>\n",
       "      <td>2007.860773</td>\n",
       "    </tr>\n",
       "    <tr>\n",
       "      <th>std</th>\n",
       "      <td>4.858721e+07</td>\n",
       "      <td>2.146698e+08</td>\n",
       "      <td>18.017041</td>\n",
       "      <td>0.764763</td>\n",
       "      <td>4.468841</td>\n",
       "    </tr>\n",
       "    <tr>\n",
       "      <th>min</th>\n",
       "      <td>5.000000e+06</td>\n",
       "      <td>2.033165e+06</td>\n",
       "      <td>63.000000</td>\n",
       "      <td>3.300000</td>\n",
       "      <td>2000.000000</td>\n",
       "    </tr>\n",
       "    <tr>\n",
       "      <th>25%</th>\n",
       "      <td>2.000000e+07</td>\n",
       "      <td>3.456058e+07</td>\n",
       "      <td>97.000000</td>\n",
       "      <td>5.600000</td>\n",
       "      <td>2004.000000</td>\n",
       "    </tr>\n",
       "    <tr>\n",
       "      <th>50%</th>\n",
       "      <td>3.800000e+07</td>\n",
       "      <td>8.361541e+07</td>\n",
       "      <td>107.000000</td>\n",
       "      <td>6.100000</td>\n",
       "      <td>2008.000000</td>\n",
       "    </tr>\n",
       "    <tr>\n",
       "      <th>75%</th>\n",
       "      <td>7.200000e+07</td>\n",
       "      <td>1.782626e+08</td>\n",
       "      <td>120.000000</td>\n",
       "      <td>6.600000</td>\n",
       "      <td>2012.000000</td>\n",
       "    </tr>\n",
       "    <tr>\n",
       "      <th>max</th>\n",
       "      <td>3.800000e+08</td>\n",
       "      <td>2.781506e+09</td>\n",
       "      <td>214.000000</td>\n",
       "      <td>8.100000</td>\n",
       "      <td>2015.000000</td>\n",
       "    </tr>\n",
       "  </tbody>\n",
       "</table>\n",
       "</div>"
      ],
      "text/plain": [
       "             budget       revenue      runtime  vote_average  release_year\n",
       "count  1.889000e+03  1.889000e+03  1889.000000   1889.000000   1889.000000\n",
       "mean   5.431083e+07  1.553653e+08   109.658549      6.140762   2007.860773\n",
       "std    4.858721e+07  2.146698e+08    18.017041      0.764763      4.468841\n",
       "min    5.000000e+06  2.033165e+06    63.000000      3.300000   2000.000000\n",
       "25%    2.000000e+07  3.456058e+07    97.000000      5.600000   2004.000000\n",
       "50%    3.800000e+07  8.361541e+07   107.000000      6.100000   2008.000000\n",
       "75%    7.200000e+07  1.782626e+08   120.000000      6.600000   2012.000000\n",
       "max    3.800000e+08  2.781506e+09   214.000000      8.100000   2015.000000"
      ]
     },
     "execution_count": 17,
     "metadata": {},
     "output_type": "execute_result"
    }
   ],
   "source": [
    "data.describe()"
   ]
  },
  {
   "cell_type": "markdown",
   "metadata": {
    "colab_type": "text",
    "id": "DTIt7ezGVp-G"
   },
   "source": [
    "# Предобработка"
   ]
  },
  {
   "cell_type": "code",
   "execution_count": 23,
   "metadata": {
    "colab": {},
    "colab_type": "code",
    "id": "jNb40DwKVp-H"
   },
   "outputs": [],
   "source": [
    "answers = {} # создадим словарь для ответов\n",
    "\n",
    "# тут другие ваши предобработки колонок например:\n",
    "\n",
    "#the time given in the dataset is in string format.\n",
    "#So we need to change this in datetime format\n",
    "# ..."
   ]
  },
  {
   "cell_type": "markdown",
   "metadata": {
    "colab_type": "text",
    "id": "YxZaH-nPVp-L"
   },
   "source": [
    "# 1. У какого фильма из списка самый большой бюджет?"
   ]
  },
  {
   "cell_type": "markdown",
   "metadata": {
    "colab_type": "text",
    "id": "Nd-G5gX6Vp-M"
   },
   "source": [
    "Использовать варианты ответов в коде решения запрещено.    \n",
    "Вы думаете и в жизни у вас будут варианты ответов?)"
   ]
  },
  {
   "cell_type": "code",
   "execution_count": 0,
   "metadata": {
    "colab": {},
    "colab_type": "code",
    "id": "uVnXAY5RVp-O"
   },
   "outputs": [],
   "source": [
    "# в словарь вставляем номер вопроса и ваш ответ на него\n",
    "# Пример: \n",
    "answers['1'] = '2. Spider-Man 3 (tt0413300)'\n",
    "# запишите свой вариант ответа\n",
    "answers['1'] = '...'\n",
    "# если ответили верно, можете добавить комментарий со значком \"+\""
   ]
  },
  {
   "cell_type": "code",
   "execution_count": 397,
   "metadata": {
    "colab": {},
    "colab_type": "code",
    "id": "dZwb3m28Vp-S"
   },
   "outputs": [
    {
     "data": {
      "text/plain": [
       "'Pirates of the Caribbean: On Stranger Tides'"
      ]
     },
     "metadata": {},
     "output_type": "display_data"
    }
   ],
   "source": [
    "# тут пишем ваш код для решения данного вопроса:\n",
    "answers['1'] = data[data['budget']==data['budget'].max()].iloc[0]['original_title']\n",
    "display(answers['1'])"
   ]
  },
  {
   "cell_type": "markdown",
   "metadata": {
    "colab_type": "text",
    "id": "K7L3nbRXVp-X"
   },
   "source": [
    "ВАРИАНТ 2"
   ]
  },
  {
   "cell_type": "code",
   "execution_count": 0,
   "metadata": {
    "colab": {},
    "colab_type": "code",
    "id": "OGaoQI7rVp-X"
   },
   "outputs": [],
   "source": [
    "# можно добавлять разные варианты решения"
   ]
  },
  {
   "cell_type": "markdown",
   "metadata": {
    "colab_type": "text",
    "id": "FNRbbI3vVp-c"
   },
   "source": [
    "# 2. Какой из фильмов самый длительный (в минутах)?"
   ]
  },
  {
   "cell_type": "code",
   "execution_count": 0,
   "metadata": {
    "colab": {},
    "colab_type": "code",
    "id": "vHAoEXNTVp-d"
   },
   "outputs": [],
   "source": [
    "# думаю логику работы с этим словарем вы уже поняли, \n",
    "# по этому не буду больше его дублировать\n",
    "answers['2'] = '...'"
   ]
  },
  {
   "cell_type": "code",
   "execution_count": 398,
   "metadata": {
    "colab": {},
    "colab_type": "code",
    "id": "ot-VX2XrVp-g"
   },
   "outputs": [
    {
     "data": {
      "text/plain": [
       "'Gods and Generals'"
      ]
     },
     "metadata": {},
     "output_type": "display_data"
    }
   ],
   "source": [
    "answers['2'] = data[data['runtime']==data['runtime'].max()].iloc[0]['original_title']\n",
    "display(answers['2'])"
   ]
  },
  {
   "cell_type": "markdown",
   "metadata": {
    "colab_type": "text",
    "id": "bapLlpW8Vp-k"
   },
   "source": [
    "# 3. Какой из фильмов самый короткий (в минутах)?\n",
    "\n",
    "\n",
    "\n"
   ]
  },
  {
   "cell_type": "code",
   "execution_count": 399,
   "metadata": {
    "colab": {},
    "colab_type": "code",
    "id": "YBxaSHuAVp-l"
   },
   "outputs": [
    {
     "data": {
      "text/plain": [
       "'Winnie the Pooh'"
      ]
     },
     "metadata": {},
     "output_type": "display_data"
    }
   ],
   "source": [
    "answers['3'] = data[data['runtime']==data['runtime'].min()].iloc[0]['original_title']\n",
    "display(answers['3'])"
   ]
  },
  {
   "cell_type": "markdown",
   "metadata": {
    "colab_type": "text",
    "id": "TfQbxbfNVp-p"
   },
   "source": [
    "# 4. Какова средняя длительность фильмов?\n"
   ]
  },
  {
   "cell_type": "code",
   "execution_count": 400,
   "metadata": {
    "colab": {},
    "colab_type": "code",
    "id": "5K6dKZYVVp-q"
   },
   "outputs": [
    {
     "data": {
      "text/plain": [
       "109.6585494970884"
      ]
     },
     "metadata": {},
     "output_type": "display_data"
    }
   ],
   "source": [
    "answers['4'] = data.describe().runtime['mean']\n",
    "display(answers['4'])"
   ]
  },
  {
   "cell_type": "markdown",
   "metadata": {
    "colab_type": "text",
    "id": "r5TvbnT_Vp-u"
   },
   "source": [
    "# 5. Каково медианное значение длительности фильмов? "
   ]
  },
  {
   "cell_type": "code",
   "execution_count": 401,
   "metadata": {
    "colab": {},
    "colab_type": "code",
    "id": "iBROplKnVp-v"
   },
   "outputs": [
    {
     "data": {
      "text/plain": [
       "107.0"
      ]
     },
     "metadata": {},
     "output_type": "display_data"
    }
   ],
   "source": [
    "answers['5'] = data.describe().runtime['50%']\n",
    "display(answers['5'])"
   ]
  },
  {
   "cell_type": "markdown",
   "metadata": {
    "colab_type": "text",
    "id": "39P-deDSVp-y"
   },
   "source": [
    "# 6. Какой самый прибыльный фильм?\n",
    "#### Внимание! Здесь и далее под «прибылью» или «убытками» понимается разность между сборами и бюджетом фильма. (прибыль = сборы - бюджет) в нашем датасете это будет (profit = revenue - budget) "
   ]
  },
  {
   "cell_type": "code",
   "execution_count": 402,
   "metadata": {
    "colab": {},
    "colab_type": "code",
    "id": "UYZh4T9WVp-y"
   },
   "outputs": [
    {
     "data": {
      "text/plain": [
       "'Avatar'"
      ]
     },
     "metadata": {},
     "output_type": "display_data"
    }
   ],
   "source": [
    "# лучше код получения столбца profit вынести в Предобработку что в начале\n",
    "answers['6'] = data[data['profit']==data['profit'].max()].iloc[0]['original_title']\n",
    "display(answers['6'])"
   ]
  },
  {
   "cell_type": "markdown",
   "metadata": {
    "colab_type": "text",
    "id": "M99JmIX4Vp-2"
   },
   "source": [
    "# 7. Какой фильм самый убыточный? "
   ]
  },
  {
   "cell_type": "code",
   "execution_count": 403,
   "metadata": {
    "colab": {},
    "colab_type": "code",
    "id": "w-D2m4XPVp-3"
   },
   "outputs": [
    {
     "data": {
      "text/plain": [
       "'The Lone Ranger'"
      ]
     },
     "metadata": {},
     "output_type": "display_data"
    }
   ],
   "source": [
    "answers['7'] = data[data['profit']==data['profit'].min()].iloc[0]['original_title']\n",
    "display(answers['7'])"
   ]
  },
  {
   "cell_type": "markdown",
   "metadata": {
    "colab_type": "text",
    "id": "wEOM5ERVVp-6"
   },
   "source": [
    "# 8. У скольких фильмов из датасета объем сборов оказался выше бюджета?"
   ]
  },
  {
   "cell_type": "code",
   "execution_count": 404,
   "metadata": {
    "colab": {},
    "colab_type": "code",
    "id": "y00_7HD6Vp-7"
   },
   "outputs": [
    {
     "data": {
      "text/plain": [
       "1478"
      ]
     },
     "metadata": {},
     "output_type": "display_data"
    }
   ],
   "source": [
    "answers['8'] = len(data[data['profit']>0])\n",
    "display(answers['8'])"
   ]
  },
  {
   "cell_type": "markdown",
   "metadata": {
    "colab_type": "text",
    "id": "xhpspA9KVp_A"
   },
   "source": [
    "# 9. Какой фильм оказался самым кассовым в 2008 году?"
   ]
  },
  {
   "cell_type": "code",
   "execution_count": 405,
   "metadata": {
    "colab": {},
    "colab_type": "code",
    "id": "MoUyQr9RVp_B"
   },
   "outputs": [
    {
     "data": {
      "text/plain": [
       "'The Dark Knight'"
      ]
     },
     "metadata": {},
     "output_type": "display_data"
    }
   ],
   "source": [
    "list9 = data[data['release_year']==2008].copy() \n",
    "answers['9'] = list9[list9['revenue']==list9['revenue'].max()].iloc[0]['original_title'] \n",
    "display(answers['9'])"
   ]
  },
  {
   "cell_type": "markdown",
   "metadata": {
    "colab_type": "text",
    "id": "Zi4hDKidVp_F"
   },
   "source": [
    "# 10. Самый убыточный фильм за период с 2012 по 2014 г. (включительно)?\n"
   ]
  },
  {
   "cell_type": "code",
   "execution_count": 318,
   "metadata": {
    "colab": {},
    "colab_type": "code",
    "id": "XqyRmufJVp_F"
   },
   "outputs": [
    {
     "data": {
      "text/plain": [
       "'The Lone Ranger'"
      ]
     },
     "metadata": {},
     "output_type": "display_data"
    }
   ],
   "source": [
    "list10 = data.query('2011 < release_year <=2014').copy() \n",
    "answers['10'] = list10[list10['profit']==list10['profit'].min()].iloc[0]['original_title'] \n",
    "display(answers['10'])"
   ]
  },
  {
   "cell_type": "markdown",
   "metadata": {
    "colab_type": "text",
    "id": "EA7Sa9dkVp_I"
   },
   "source": [
    "# 11. Какого жанра фильмов больше всего?"
   ]
  },
  {
   "cell_type": "code",
   "execution_count": 145,
   "metadata": {
    "colab": {},
    "colab_type": "code",
    "id": "zsJAwJ8QVp_J"
   },
   "outputs": [
    {
     "name": "stdout",
     "output_type": "stream",
     "text": [
      "Drama\n"
     ]
    }
   ],
   "source": [
    "# эту задачу тоже можно решать разными подходами, попробуй реализовать разные варианты\n",
    "# если будешь добавлять функцию - выноси ее в предобработку что в начале\n",
    "sum11 = Counter()\n",
    "\n",
    "for i in data['genres'].str.split('|'):\n",
    "    for genre in i:\n",
    "        sum11[genre] += 1\n",
    "\n",
    "answers['11'] = sum11.most_common(1)[0][0]\n",
    "print(answers['11'])"
   ]
  },
  {
   "cell_type": "markdown",
   "metadata": {
    "colab_type": "text",
    "id": "Ax6g2C8SVp_M"
   },
   "source": [
    "ВАРИАНТ 2"
   ]
  },
  {
   "cell_type": "code",
   "execution_count": 0,
   "metadata": {
    "colab": {},
    "colab_type": "code",
    "id": "otO3SbrSVp_N"
   },
   "outputs": [],
   "source": []
  },
  {
   "cell_type": "markdown",
   "metadata": {
    "colab_type": "text",
    "id": "T9_bPWpkVp_Q"
   },
   "source": [
    "# 12. Фильмы какого жанра чаще всего становятся прибыльными? "
   ]
  },
  {
   "cell_type": "code",
   "execution_count": 317,
   "metadata": {
    "colab": {},
    "colab_type": "code",
    "id": "Tmt8MaK1Vp_R"
   },
   "outputs": [
    {
     "name": "stdout",
     "output_type": "stream",
     "text": [
      "Drama\n"
     ]
    }
   ],
   "source": [
    "data12 = data[data['profit']>0].copy()\n",
    "sum12 = Counter()\n",
    "\n",
    "for i in data12['genres'].str.split('|'):\n",
    "    for genre in i:\n",
    "        sum12[genre] += 1\n",
    "\n",
    "answers['12'] = sum12.most_common(1)[0][0]\n",
    "print(answers['12'])"
   ]
  },
  {
   "cell_type": "markdown",
   "metadata": {
    "colab_type": "text",
    "id": "0F23bgsDVp_U"
   },
   "source": [
    "# 13. У какого режиссера самые большие суммарные кассовые сбооры?"
   ]
  },
  {
   "cell_type": "code",
   "execution_count": 109,
   "metadata": {
    "colab": {},
    "colab_type": "code",
    "id": "K6Z3J8ygVp_X"
   },
   "outputs": [
    {
     "name": "stdout",
     "output_type": "stream",
     "text": [
      "Peter Jackson\n"
     ]
    }
   ],
   "source": [
    "answers['13'] = data.groupby(['director'])['revenue'].sum().sort_values(ascending=False).keys()[0]\n",
    "print(answers['13'])"
   ]
  },
  {
   "cell_type": "markdown",
   "metadata": {
    "colab_type": "text",
    "id": "PsYC9FgRVp_a"
   },
   "source": [
    "# 14. Какой режисер снял больше всего фильмов в стиле Action?"
   ]
  },
  {
   "cell_type": "code",
   "execution_count": 316,
   "metadata": {
    "colab": {},
    "colab_type": "code",
    "id": "wd2M-wHeVp_b"
   },
   "outputs": [
    {
     "data": {
      "text/plain": [
       "'Robert Rodriguez'"
      ]
     },
     "metadata": {},
     "output_type": "display_data"
    }
   ],
   "source": [
    "data14 = data[data['genres'].str.contains('Action')].copy()\n",
    "answers['14'] = Counter(data14.director.str.cat(sep = '|').split('|')).most_common(1)[0][0]\n",
    "display(answers['14'])\n"
   ]
  },
  {
   "cell_type": "markdown",
   "metadata": {
    "colab_type": "text",
    "id": "PQ0KciD7Vp_f"
   },
   "source": [
    "# 15. Фильмы с каким актером принесли самые высокие кассовые сборы в 2012 году? "
   ]
  },
  {
   "cell_type": "code",
   "execution_count": 187,
   "metadata": {
    "colab": {},
    "colab_type": "code",
    "id": "aga62oeKVp_g"
   },
   "outputs": [
    {
     "data": {
      "text/plain": [
       "'Chris Hemsworth'"
      ]
     },
     "metadata": {},
     "output_type": "display_data"
    }
   ],
   "source": [
    "data15 = data.query('release_year == 2012').copy() \n",
    "data15['cast'] = data15.cast.str.split('|') \n",
    "answers['15'] = data15.explode('cast').groupby('cast')['revenue'].sum().sort_values(ascending = False).index[0]\n",
    "display(answers['15'])"
   ]
  },
  {
   "cell_type": "markdown",
   "metadata": {
    "colab_type": "text",
    "id": "mWHyyL7QVp_j"
   },
   "source": [
    "# 16. Какой актер снялся в большем количестве высокобюджетных фильмов?"
   ]
  },
  {
   "cell_type": "code",
   "execution_count": 196,
   "metadata": {
    "colab": {},
    "colab_type": "code",
    "id": "qQtmHKTFVp_k"
   },
   "outputs": [
    {
     "data": {
      "text/plain": [
       "'Matt Damon'"
      ]
     },
     "metadata": {},
     "output_type": "display_data"
    }
   ],
   "source": [
    "data16 = data[data['budget'] > data['budget'].mean()].copy() \n",
    "data16['cast'] = data16.cast.str.split('|') \n",
    "answers['16'] = data16.explode('cast').cast.value_counts().sort_values(ascending = False).index[0]\n",
    "display(answers['16'])"
   ]
  },
  {
   "cell_type": "markdown",
   "metadata": {
    "colab_type": "text",
    "id": "NIh6AaW5Vp_n"
   },
   "source": [
    "# 17. В фильмах какого жанра больше всего снимался Nicolas Cage? "
   ]
  },
  {
   "cell_type": "code",
   "execution_count": 201,
   "metadata": {
    "colab": {},
    "colab_type": "code",
    "id": "H74SJDIBVp_n"
   },
   "outputs": [
    {
     "data": {
      "text/plain": [
       "'Action'"
      ]
     },
     "metadata": {},
     "output_type": "display_data"
    }
   ],
   "source": [
    "data17 = data[data.cast.str.contains('Nicolas Cage')].copy() \n",
    "data17['genres'] = data17.genres.str.split('|')\n",
    "answers['17'] = data17.explode('genres').genres.value_counts().sort_values(ascending = False).index[0]\n",
    "display(answers['17'])"
   ]
  },
  {
   "cell_type": "markdown",
   "metadata": {
    "colab_type": "text",
    "id": "RqOmPRfWVp_q"
   },
   "source": [
    "# 18. Самый убыточный фильм от Paramount Pictures"
   ]
  },
  {
   "cell_type": "code",
   "execution_count": 315,
   "metadata": {
    "colab": {},
    "colab_type": "code",
    "id": "9E_B0Y96Vp_r"
   },
   "outputs": [
    {
     "data": {
      "text/plain": [
       "'K-19: The Widowmaker'"
      ]
     },
     "metadata": {},
     "output_type": "display_data"
    }
   ],
   "source": [
    "data18 = data[data.production_companies.str.contains('Paramount Pictures')].copy() \n",
    "answers['18'] = data18[data18.profit == data18.profit.min()].iloc[0].original_title\n",
    "display(answers['18'])"
   ]
  },
  {
   "cell_type": "markdown",
   "metadata": {
    "colab_type": "text",
    "id": "vS8Ur6ddVp_u"
   },
   "source": [
    "# 19. Какой год стал самым успешным по суммарным кассовым сборам?"
   ]
  },
  {
   "cell_type": "code",
   "execution_count": 244,
   "metadata": {
    "colab": {},
    "colab_type": "code",
    "id": "Dnbt4GdIVp_v"
   },
   "outputs": [
    {
     "data": {
      "text/plain": [
       "2015"
      ]
     },
     "metadata": {},
     "output_type": "display_data"
    }
   ],
   "source": [
    "answers['19'] = data.groupby('release_year').revenue.sum().sort_values(ascending = False).index[0]\n",
    "display(answers['19'])"
   ]
  },
  {
   "cell_type": "markdown",
   "metadata": {
    "colab_type": "text",
    "id": "JAzJh4QAVp_z"
   },
   "source": [
    "# 20. Какой самый прибыльный год для студии Warner Bros?"
   ]
  },
  {
   "cell_type": "code",
   "execution_count": 249,
   "metadata": {
    "colab": {},
    "colab_type": "code",
    "id": "wgVu02DEVp_0"
   },
   "outputs": [
    {
     "data": {
      "text/plain": [
       "2014"
      ]
     },
     "metadata": {},
     "output_type": "display_data"
    }
   ],
   "source": [
    "data20 = data.copy()\n",
    "data20.production_companies = data20.production_companies.str.split('|')\n",
    "data20 = data20.explode('production_companies')\n",
    "data20 = data20[data20.production_companies.str.contains('Warner Bros')]\n",
    "answers['20'] = data20.groupby('release_year').profit.sum().sort_values(ascending = False).index[0]\n",
    "display(answers['20'])"
   ]
  },
  {
   "cell_type": "markdown",
   "metadata": {
    "colab_type": "text",
    "id": "8Im1S2HRVp_4"
   },
   "source": [
    "# 21. В каком месяце за все годы суммарно вышло больше всего фильмов?"
   ]
  },
  {
   "cell_type": "code",
   "execution_count": 338,
   "metadata": {
    "colab": {},
    "colab_type": "code",
    "id": "lev6TH7gVp_4"
   },
   "outputs": [
    {
     "data": {
      "text/plain": [
       "9"
      ]
     },
     "metadata": {},
     "output_type": "display_data"
    }
   ],
   "source": [
    "data21 = data.copy()\n",
    "data21['month'] = data21.release_date.apply(lambda x: datetime.strptime(x, \"%m/%d/%Y\").month)\n",
    "answers['21'] = data21.month.value_counts().sort_values(ascending = False).index[0]\n",
    "display(answers['21'])"
   ]
  },
  {
   "cell_type": "markdown",
   "metadata": {
    "colab_type": "text",
    "id": "uAJsZ_NeVp_7"
   },
   "source": [
    "# 22. Сколько суммарно вышло фильмов летом? (за июнь, июль, август)"
   ]
  },
  {
   "cell_type": "code",
   "execution_count": 339,
   "metadata": {
    "colab": {},
    "colab_type": "code",
    "id": "Aa-hEREoVp_8"
   },
   "outputs": [
    {
     "data": {
      "text/plain": [
       "450"
      ]
     },
     "metadata": {},
     "output_type": "display_data"
    }
   ],
   "source": [
    "data22 = data.copy()\n",
    "data22['month'] = data22.release_date.apply(lambda x: datetime.strptime(x, \"%m/%d/%Y\").month)\n",
    "data22 = data22.query('5 < month < 9')\n",
    "answers['22'] = len(data22)\n",
    "display(answers['22'])"
   ]
  },
  {
   "cell_type": "markdown",
   "metadata": {
    "colab_type": "text",
    "id": "G94ppOY1VqAA"
   },
   "source": [
    "# 23. Для какого режиссера зима – самое продуктивное время года? "
   ]
  },
  {
   "cell_type": "code",
   "execution_count": 345,
   "metadata": {
    "colab": {},
    "colab_type": "code",
    "id": "RhNTsamuVqAB"
   },
   "outputs": [
    {
     "data": {
      "text/plain": [
       "'Peter Jackson'"
      ]
     },
     "metadata": {},
     "output_type": "display_data"
    }
   ],
   "source": [
    "data23 = data.copy()\n",
    "data23['month'] = data23.release_date.apply(lambda x: datetime.strptime(x, \"%m/%d/%Y\").month)\n",
    "data23 = data23.query('3 > month | month == 12')\n",
    "answers['23'] = Counter(data23.director.str.cat(sep = '|').split('|')).most_common(1)[0][0]\n",
    "display(answers['23'])"
   ]
  },
  {
   "cell_type": "markdown",
   "metadata": {
    "colab_type": "text",
    "id": "RBo0JVjVVqAF"
   },
   "source": [
    "# 24. Какая студия дает самые длинные названия своим фильмам по количеству символов?"
   ]
  },
  {
   "cell_type": "code",
   "execution_count": 280,
   "metadata": {
    "colab": {},
    "colab_type": "code",
    "id": "QRGS8L0iVqAG"
   },
   "outputs": [
    {
     "data": {
      "text/plain": [
       "'Four By Two Productions'"
      ]
     },
     "metadata": {},
     "output_type": "display_data"
    }
   ],
   "source": [
    "data24 = data.copy()\n",
    "data24.production_companies = data24.production_companies.str.split('|')\n",
    "data24 = data24.explode('production_companies')\n",
    "value_counts_production_companies = data24.explode('production_companies').production_companies.value_counts()\n",
    "data24 = data24.groupby('production_companies').original_title.sum()\n",
    "#data24['title_length'] = len(data24.original_title)\n",
    "sum24 = Counter()\n",
    "for i in data24.index:\n",
    "    sum24[i] = len(data24[i])/value_counts_production_companies[i]\n",
    "answers['24'] = sum24.most_common(1)[0][0]\n",
    "display(answers['24'])\n"
   ]
  },
  {
   "cell_type": "markdown",
   "metadata": {
    "colab_type": "text",
    "id": "9G0hbvR7VqAK"
   },
   "source": [
    "# 25. Описание фильмов какой студии в среднем самые длинные по количеству слов?"
   ]
  },
  {
   "cell_type": "code",
   "execution_count": 292,
   "metadata": {
    "colab": {},
    "colab_type": "code",
    "id": "Ge2GsLNxVqAK"
   },
   "outputs": [
    {
     "data": {
      "text/plain": [
       "'Midnight Picture Show'"
      ]
     },
     "metadata": {},
     "output_type": "display_data"
    }
   ],
   "source": [
    "data25 = data.copy()\n",
    "data25.production_companies = data25.production_companies.str.split('|')\n",
    "data25 = data25.explode('production_companies')\n",
    "data25 = data25.groupby('production_companies').overview.sum()\n",
    "sum25 = Counter()\n",
    "for i in data25.index:\n",
    "    sum25[i] = len(data25[i].split())/value_counts_production_companies[i]\n",
    "answers['25'] = sum25.most_common(1)[0][0]\n",
    "display(answers['25'])"
   ]
  },
  {
   "cell_type": "markdown",
   "metadata": {
    "colab_type": "text",
    "id": "FJ1AFt90VqAP"
   },
   "source": [
    "# 26. Какие фильмы входят в 1 процент лучших по рейтингу? \n",
    "по vote_average"
   ]
  },
  {
   "cell_type": "code",
   "execution_count": 393,
   "metadata": {
    "colab": {},
    "colab_type": "code",
    "id": "8qmJVq4CVqAQ"
   },
   "outputs": [
    {
     "data": {
      "text/plain": [
       "9                                          Inside Out\n",
       "34                                               Room\n",
       "118                                      Interstellar\n",
       "119                           Guardians of the Galaxy\n",
       "125                                The Imitation Game\n",
       "128                                         Gone Girl\n",
       "138                          The Grand Budapest Hotel\n",
       "370                                         Inception\n",
       "599                                   The Dark Knight\n",
       "872                                       The Pianist\n",
       "1081    The Lord of the Rings: The Return of the King\n",
       "1183                          The Wolf of Wall Street\n",
       "1191                                 12 Years a Slave\n",
       "1800                                          Memento\n",
       "Name: original_title, dtype: object"
      ]
     },
     "metadata": {},
     "output_type": "display_data"
    },
    {
     "data": {
      "text/plain": [
       "[(('Daniel Radcliffe', 'Rupert Grint'), 8)]"
      ]
     },
     "metadata": {},
     "output_type": "display_data"
    }
   ],
   "source": [
    "vote_average99 = np.quantile(data['vote_average'], 0.99)\n",
    "answers['26'] = data[data['vote_average'] > vote_average99].original_title\n",
    "display(answers['26'])\n",
    "\n",
    "from itertools import combinations\n",
    "data27 = data.copy()\n",
    "# Превращаем сроку со списком в массив:\n",
    "data27.cast = data27.cast.str.split('|')\n",
    "pairs = Counter()\n",
    "\n",
    "for number_row in range(len(data27)):\n",
    "    cast_pairs = pd.Series(combinations(data27.iloc[number_row].cast, 2))\n",
    "    for pair in cast_pairs:\n",
    "        pairs[pair] += 1\n",
    "\n",
    "answers['27'] = pairs.most_common(1)\n",
    "display(answers['27'])"
   ]
  },
  {
   "cell_type": "markdown",
   "metadata": {
    "colab_type": "text",
    "id": "MdXsUXbCVqAV"
   },
   "source": [
    "# 27. Какие актеры чаще всего снимаются в одном фильме вместе?\n"
   ]
  },
  {
   "cell_type": "markdown",
   "metadata": {
    "colab_type": "text",
    "id": "4ymnxEVoVqAW"
   },
   "source": [
    "from itertools import combinations\n",
    "data27 = data.copy()\n",
    "data27.cast = data27.cast.str.split('|')\n",
    "pairs = Counter()\n",
    "\n",
    "for number_row in range(len(data27)):\n",
    "    cast_pairs = pd.Series(combinations(data27.iloc[number_row].cast, 2))\n",
    "    for pair in cast_pairs:\n",
    "        pairs[pair] += 1\n",
    "\n",
    "answers['27'] = pairs.most_common(1)\n",
    "display(answers['27'])"
   ]
  },
  {
   "cell_type": "markdown",
   "metadata": {
    "colab_type": "text",
    "id": "U0nONFnGVqAX"
   },
   "source": [
    "# Submission"
   ]
  },
  {
   "cell_type": "code",
   "execution_count": 295,
   "metadata": {
    "colab": {},
    "colab_type": "code",
    "id": "IfcaRO9-VqAX",
    "outputId": "0f132912-32bb-4196-c98c-abfbc4ad5a5f"
   },
   "outputs": [
    {
     "data": {
      "text/plain": [
       "{'1': 'Pirates of the Caribbean: On Stranger Tides',\n",
       " '2': 'Gods and Generals',\n",
       " '3': 'Winnie the Pooh',\n",
       " '9': 'The Dark Knight',\n",
       " '10': 'The Lone Ranger',\n",
       " '11': 'Drama',\n",
       " '12': 'Drama',\n",
       " '13': 'Peter Jackson',\n",
       " '6': 'Avatar',\n",
       " '8': 1478,\n",
       " '14': 'Robert Rodriguez',\n",
       " '15': 'Chris Hemsworth',\n",
       " '16': 'Matt Damon',\n",
       " '17': 'Action',\n",
       " '18': 'K-19: The Widowmaker',\n",
       " '19': 2015,\n",
       " '20': 2014,\n",
       " '25': 'Midnight Picture Show',\n",
       " '26':         imdb_id     budget     revenue  \\\n",
       " 9     tt2096673  175000000   853708609   \n",
       " 34    tt3170832    6000000    35401758   \n",
       " 118   tt0816692  165000000   621752480   \n",
       " 119   tt2015381  170000000   773312399   \n",
       " 125   tt2084970   14000000   233555708   \n",
       " 128   tt2267998   61000000   369330363   \n",
       " 138   tt2278388   30000000   174600318   \n",
       " 370   tt1375666  160000000   825500000   \n",
       " 599   tt0468569  185000000  1001921825   \n",
       " 872   tt0253474   35000000   120072577   \n",
       " 1081  tt0167260   94000000  1118888979   \n",
       " 1183  tt0993846  100000000   392000694   \n",
       " 1191  tt2024544   20000000   187000000   \n",
       " 1800  tt0209144    9000000    39723096   \n",
       " \n",
       "                                      original_title  \\\n",
       " 9                                        Inside Out   \n",
       " 34                                             Room   \n",
       " 118                                    Interstellar   \n",
       " 119                         Guardians of the Galaxy   \n",
       " 125                              The Imitation Game   \n",
       " 128                                       Gone Girl   \n",
       " 138                        The Grand Budapest Hotel   \n",
       " 370                                       Inception   \n",
       " 599                                 The Dark Knight   \n",
       " 872                                     The Pianist   \n",
       " 1081  The Lord of the Rings: The Return of the King   \n",
       " 1183                        The Wolf of Wall Street   \n",
       " 1191                               12 Years a Slave   \n",
       " 1800                                        Memento   \n",
       " \n",
       "                                                    cast           director  \\\n",
       " 9     Amy Poehler|Phyllis Smith|Richard Kind|Bill Ha...        Pete Docter   \n",
       " 34    Brie Larson|Jacob Tremblay|Joan Allen|Sean Bri...   Lenny Abrahamson   \n",
       " 118   Matthew McConaughey|Jessica Chastain|Anne Hath...  Christopher Nolan   \n",
       " 119   Chris Pratt|Zoe Saldana|Dave Bautista|Vin Dies...         James Gunn   \n",
       " 125   Benedict Cumberbatch|Keira Knightley|Matthew G...      Morten Tyldum   \n",
       " 128   Ben Affleck|Rosamund Pike|Carrie Coon|Neil Pat...      David Fincher   \n",
       " 138   Ralph Fiennes|Tony Revolori|F. Murray Abraham|...       Wes Anderson   \n",
       " 370   Leonardo DiCaprio|Joseph Gordon-Levitt|Ellen P...  Christopher Nolan   \n",
       " 599   Christian Bale|Michael Caine|Heath Ledger|Aaro...  Christopher Nolan   \n",
       " 872   Adrien Brody|Thomas Kretschmann|Frank Finlay|M...     Roman Polanski   \n",
       " 1081  Elijah Wood|Ian McKellen|Viggo Mortensen|Liv T...      Peter Jackson   \n",
       " 1183  Leonardo DiCaprio|Jonah Hill|Margot Robbie|Kyl...    Martin Scorsese   \n",
       " 1191  Chiwetel Ejiofor|Michael Fassbender|Lupita Nyo...      Steve McQueen   \n",
       " 1800  Guy Pearce|Carrie-Anne Moss|Joe Pantoliano|Mar...  Christopher Nolan   \n",
       " \n",
       "                                                 tagline  \\\n",
       " 9              Meet the little voices inside your head.   \n",
       " 34                             Love knows no boundaries   \n",
       " 118   Mankind was born on Earth. It was never meant ...   \n",
       " 119                         All heroes start somewhere.   \n",
       " 125   The true enigma was the man who cracked the code.   \n",
       " 128         You don't know what you've got 'til it's...   \n",
       " 138             A perfect holiday without leaving home.   \n",
       " 370                Your mind is the scene of the crime.   \n",
       " 599                                     Why So Serious?   \n",
       " 872   Music was his passion. Survival was his master...   \n",
       " 1081                    The eye of the enemy is moving.   \n",
       " 1183                                EARN. SPEND. PARTY.   \n",
       " 1191    The extraordinary true story of Solomon Northup   \n",
       " 1800                  Some memories are best forgotten.   \n",
       " \n",
       "                                                overview  runtime  \\\n",
       " 9     Growing up can be a bumpy road, and it's no ex...       94   \n",
       " 34    Jack is a young boy of 5 years old who has liv...      117   \n",
       " 118   Interstellar chronicles the adventures of a gr...      169   \n",
       " 119   Light years from Earth, 26 years after being a...      121   \n",
       " 125   Based on the real life story of legendary cryp...      113   \n",
       " 128   With his wife's disappearance having become th...      145   \n",
       " 138   The Grand Budapest Hotel tells of a legendary ...       99   \n",
       " 370   Cobb, a skilled thief who commits corporate es...      148   \n",
       " 599   Batman raises the stakes in his war on crime. ...      152   \n",
       " 872   The Pianist is a film adapted from the biograp...      150   \n",
       " 1081  Aragorn is revealed as the heir to the ancient...      201   \n",
       " 1183  A New York stockbroker refuses to cooperate in...      180   \n",
       " 1191  In the pre-Civil War United States, Solomon No...      134   \n",
       " 1800  Suffering short-term memory loss after a head ...      113   \n",
       " \n",
       "                                                  genres  \\\n",
       " 9                               Comedy|Animation|Family   \n",
       " 34                                       Drama|Thriller   \n",
       " 118                     Adventure|Drama|Science Fiction   \n",
       " 119                    Action|Science Fiction|Adventure   \n",
       " 125                          History|Drama|Thriller|War   \n",
       " 128                              Mystery|Thriller|Drama   \n",
       " 138                                        Comedy|Drama   \n",
       " 370   Action|Thriller|Science Fiction|Mystery|Adventure   \n",
       " 599                         Drama|Action|Crime|Thriller   \n",
       " 872                                           Drama|War   \n",
       " 1081                           Adventure|Fantasy|Action   \n",
       " 1183                                 Crime|Drama|Comedy   \n",
       " 1191                                      Drama|History   \n",
       " 1800                                   Mystery|Thriller   \n",
       " \n",
       "                                    production_companies release_date  \\\n",
       " 9     Walt Disney Pictures|Pixar Animation Studios|W...     6/9/2015   \n",
       " 34    Element Pictures|No Trace Camping|A24|Duperele...   10/16/2015   \n",
       " 118   Paramount Pictures|Legendary Pictures|Warner B...    11/5/2014   \n",
       " 119   Marvel Studios|Moving Picture Company (MPC)|Bu...    7/30/2014   \n",
       " 125              Black Bear Pictures|Bristol Automotive   11/14/2014   \n",
       " 128   Twentieth Century Fox Film Corporation|Regency...    10/1/2014   \n",
       " 138   Fox Searchlight Pictures|Scott Rudin Productio...    2/26/2014   \n",
       " 370             Legendary Pictures|Warner Bros.|Syncopy    7/14/2010   \n",
       " 599   DC Comics|Legendary Pictures|Warner Bros.|Syncopy    7/16/2008   \n",
       " 872   Bac Films|Canal+Polska|Heritage Films|Studio B...    9/24/2002   \n",
       " 1081                      WingNut Films|New Line Cinema    12/1/2003   \n",
       " 1183  Paramount Pictures|Appian Way|EMJAG Production...   12/25/2013   \n",
       " 1191  Plan B Entertainment|Regency Enterprises|River...   10/18/2013   \n",
       " 1800  Summit Entertainment|Newmarket Capital Group|T...   10/11/2000   \n",
       " \n",
       "       vote_average  release_year      profit  \n",
       " 9              8.0          2015   678708609  \n",
       " 34             8.0          2015    29401758  \n",
       " 118            8.0          2014   456752480  \n",
       " 119            7.9          2014   603312399  \n",
       " 125            8.0          2014   219555708  \n",
       " 128            7.9          2014   308330363  \n",
       " 138            7.9          2014   144600318  \n",
       " 370            7.9          2010   665500000  \n",
       " 599            8.1          2008   816921825  \n",
       " 872            7.9          2002    85072577  \n",
       " 1081           7.9          2003  1024888979  \n",
       " 1183           7.9          2013   292000694  \n",
       " 1191           7.9          2013   167000000  \n",
       " 1800           7.9          2000    30723096  }"
      ]
     },
     "execution_count": 295,
     "metadata": {},
     "output_type": "execute_result"
    }
   ],
   "source": [
    "# в конце можно посмотреть свои ответы к каждому вопросу\n",
    "answers"
   ]
  },
  {
   "cell_type": "code",
   "execution_count": 407,
   "metadata": {
    "colab": {},
    "colab_type": "code",
    "id": "SiRmHPl8VqAd"
   },
   "outputs": [
    {
     "data": {
      "text/plain": [
       "26"
      ]
     },
     "execution_count": 407,
     "metadata": {},
     "output_type": "execute_result"
    }
   ],
   "source": [
    "# и убедиться что ни чего не пропустил)\n",
    "len(answers)"
   ]
  },
  {
   "cell_type": "code",
   "execution_count": 0,
   "metadata": {
    "colab": {},
    "colab_type": "code",
    "id": "uCfuTkRbVqAg"
   },
   "outputs": [],
   "source": []
  },
  {
   "cell_type": "code",
   "execution_count": 0,
   "metadata": {
    "colab": {},
    "colab_type": "code",
    "id": "Vwx3NrkSVqAl"
   },
   "outputs": [],
   "source": []
  }
 ],
 "metadata": {
  "colab": {
   "name": "Copy of [SF-DST] Movies IMBD v4.1 TEMPLATE.ipynb",
   "provenance": []
  },
  "kernelspec": {
   "display_name": "Python 3",
   "language": "python",
   "name": "python3"
  },
  "language_info": {
   "codemirror_mode": {
    "name": "ipython",
    "version": 3
   },
   "file_extension": ".py",
   "mimetype": "text/x-python",
   "name": "python",
   "nbconvert_exporter": "python",
   "pygments_lexer": "ipython3",
   "version": "3.7.6"
  }
 },
 "nbformat": 4,
 "nbformat_minor": 1
}
